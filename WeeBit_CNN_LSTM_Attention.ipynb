{
  "nbformat": 4,
  "nbformat_minor": 0,
  "metadata": {
    "kernelspec": {
      "language": "python",
      "display_name": "Python 3",
      "name": "python3"
    },
    "language_info": {
      "pygments_lexer": "ipython3",
      "nbconvert_exporter": "python",
      "version": "3.6.4",
      "file_extension": ".py",
      "codemirror_mode": {
        "name": "ipython",
        "version": 3
      },
      "name": "python",
      "mimetype": "text/x-python"
    },
    "colab": {
      "name": "WeeBit_CNN_LSTM_Attention.ipynb",
      "provenance": [],
      "collapsed_sections": [],
      "include_colab_link": true
    },
    "accelerator": "GPU"
  },
  "cells": [
    {
      "cell_type": "markdown",
      "metadata": {
        "id": "view-in-github",
        "colab_type": "text"
      },
      "source": [
        "<a href=\"https://colab.research.google.com/github/m607stars/Reading-WeeBit-with-LSTMs-CNNs/blob/main/WeeBit_CNN_LSTM_Attention.ipynb\" target=\"_parent\"><img src=\"https://colab.research.google.com/assets/colab-badge.svg\" alt=\"Open In Colab\"/></a>"
      ]
    },
    {
      "cell_type": "markdown",
      "metadata": {
        "id": "NVC6j9XOC0J1"
      },
      "source": [
        "# Imports and Installs"
      ]
    },
    {
      "cell_type": "code",
      "metadata": {
        "colab": {
          "base_uri": "https://localhost:8080/"
        },
        "id": "Upcb-2aDVp3I",
        "outputId": "00e1a584-a649-49d6-84e9-57219a312cd4"
      },
      "source": [
        "from google.colab import drive\n",
        "drive.mount('/content/drive')"
      ],
      "execution_count": 1,
      "outputs": [
        {
          "output_type": "stream",
          "text": [
            "Mounted at /content/drive\n"
          ],
          "name": "stdout"
        }
      ]
    },
    {
      "cell_type": "code",
      "metadata": {
        "execution": {
          "iopub.status.busy": "2021-06-17T13:04:20.192187Z",
          "iopub.execute_input": "2021-06-17T13:04:20.192588Z",
          "iopub.status.idle": "2021-06-17T13:04:20.196832Z",
          "shell.execute_reply.started": "2021-06-17T13:04:20.192493Z",
          "shell.execute_reply": "2021-06-17T13:04:20.195993Z"
        },
        "trusted": true,
        "id": "4DDm-bAEC0KA"
      },
      "source": [
        "# !pip install torchviz"
      ],
      "execution_count": null,
      "outputs": []
    },
    {
      "cell_type": "code",
      "metadata": {
        "execution": {
          "iopub.status.busy": "2021-06-17T13:04:31.917757Z",
          "iopub.execute_input": "2021-06-17T13:04:31.91814Z",
          "iopub.status.idle": "2021-06-17T13:04:34.255424Z",
          "shell.execute_reply.started": "2021-06-17T13:04:31.918108Z",
          "shell.execute_reply": "2021-06-17T13:04:34.25454Z"
        },
        "trusted": true,
        "id": "R7_VU3rsC0KD"
      },
      "source": [
        "import numpy as np\n",
        "import pandas as pd\n",
        "import os\n",
        "import torch\n",
        "from nltk.tokenize import word_tokenize\n",
        "from torchtext import vocab\n",
        "import random\n",
        "import nltk\n",
        "from sklearn.model_selection import StratifiedKFold\n",
        "from sklearn.metrics import confusion_matrix"
      ],
      "execution_count": 2,
      "outputs": []
    },
    {
      "cell_type": "code",
      "metadata": {
        "id": "9wCKUBIfaWyn",
        "colab": {
          "base_uri": "https://localhost:8080/"
        },
        "outputId": "d3af74d2-19ea-405b-9e23-9bc438db1388"
      },
      "source": [
        "nltk.download('punkt')"
      ],
      "execution_count": 3,
      "outputs": [
        {
          "output_type": "stream",
          "text": [
            "[nltk_data] Downloading package punkt to /root/nltk_data...\n",
            "[nltk_data]   Unzipping tokenizers/punkt.zip.\n"
          ],
          "name": "stdout"
        },
        {
          "output_type": "execute_result",
          "data": {
            "text/plain": [
              "True"
            ]
          },
          "metadata": {
            "tags": []
          },
          "execution_count": 3
        }
      ]
    },
    {
      "cell_type": "code",
      "metadata": {
        "colab": {
          "base_uri": "https://localhost:8080/"
        },
        "id": "aJNC91OVSJow",
        "outputId": "58064b4c-4101-40a1-a254-20a98bf81147"
      },
      "source": [
        "def seed_everything(seed):\n",
        "    random.seed(seed)\n",
        "    os.environ['PYTHONHASHSEED'] = str(seed)\n",
        "    np.random.seed(seed)\n",
        "    torch.manual_seed(seed)\n",
        "    torch.cuda.manual_seed(seed)\n",
        "    print(\"Seeding done\")\n",
        "seed_everything(42)"
      ],
      "execution_count": 4,
      "outputs": [
        {
          "output_type": "stream",
          "text": [
            "Seeding done\n"
          ],
          "name": "stdout"
        }
      ]
    },
    {
      "cell_type": "code",
      "metadata": {
        "execution": {
          "iopub.status.busy": "2021-06-17T13:04:34.257209Z",
          "iopub.execute_input": "2021-06-17T13:04:34.257534Z",
          "iopub.status.idle": "2021-06-17T13:05:23.83085Z",
          "shell.execute_reply.started": "2021-06-17T13:04:34.257499Z",
          "shell.execute_reply": "2021-06-17T13:05:23.829972Z"
        },
        "trusted": true,
        "id": "HVrapbC9C0KE"
      },
      "source": [
        "VECTOR_PATH = '/content/drive/MyDrive/Readability_Research_Paper/'\n",
        "VECTOR_NAME = 'glove.6B.300d.txt'\n",
        "\n",
        "TEXT_LENGTH = 187\n",
        "EMBEDDING_SIZE = 300\n",
        "HIDDEN_SIZE = 200\n",
        "BATCH_SIZE=16\n",
        "\n",
        "embeddings = vocab.Vectors(VECTOR_NAME,VECTOR_PATH)"
      ],
      "execution_count": 5,
      "outputs": []
    },
    {
      "cell_type": "code",
      "metadata": {
        "execution": {
          "iopub.status.busy": "2021-06-17T13:05:23.832382Z",
          "iopub.execute_input": "2021-06-17T13:05:23.832712Z",
          "iopub.status.idle": "2021-06-17T13:05:23.913894Z",
          "shell.execute_reply.started": "2021-06-17T13:05:23.832671Z",
          "shell.execute_reply": "2021-06-17T13:05:23.912978Z"
        },
        "trusted": true,
        "id": "n-hproQLC0KF",
        "colab": {
          "base_uri": "https://localhost:8080/"
        },
        "outputId": "12dabd7b-2ab0-4cdd-bdb4-97da82be8a55"
      },
      "source": [
        "if torch.cuda.is_available():\n",
        "    device = torch.device('cuda')\n",
        "else:\n",
        "    device = torch.device('cpu')\n",
        "    \n",
        "print(device)"
      ],
      "execution_count": 6,
      "outputs": [
        {
          "output_type": "stream",
          "text": [
            "cuda\n"
          ],
          "name": "stdout"
        }
      ]
    },
    {
      "cell_type": "code",
      "metadata": {
        "execution": {
          "iopub.status.busy": "2021-06-17T13:05:23.915185Z",
          "iopub.execute_input": "2021-06-17T13:05:23.915509Z",
          "iopub.status.idle": "2021-06-17T13:05:24.025958Z",
          "shell.execute_reply.started": "2021-06-17T13:05:23.915472Z",
          "shell.execute_reply": "2021-06-17T13:05:24.025147Z"
        },
        "trusted": true,
        "id": "6f-ITJlLC0KG",
        "colab": {
          "base_uri": "https://localhost:8080/",
          "height": 204
        },
        "outputId": "bbfc8536-2359-4ba8-dcf1-add66f60b6f3"
      },
      "source": [
        "train_dataset = pd.read_csv('/content/drive/MyDrive/Readability_Research_Paper/train.csv')\n",
        "train_dataset['readability'] = train_dataset['readability'].apply(lambda x: x-2)\n",
        "train_dataset.head()"
      ],
      "execution_count": 7,
      "outputs": [
        {
          "output_type": "execute_result",
          "data": {
            "text/html": [
              "<div>\n",
              "<style scoped>\n",
              "    .dataframe tbody tr th:only-of-type {\n",
              "        vertical-align: middle;\n",
              "    }\n",
              "\n",
              "    .dataframe tbody tr th {\n",
              "        vertical-align: top;\n",
              "    }\n",
              "\n",
              "    .dataframe thead th {\n",
              "        text-align: right;\n",
              "    }\n",
              "</style>\n",
              "<table border=\"1\" class=\"dataframe\">\n",
              "  <thead>\n",
              "    <tr style=\"text-align: right;\">\n",
              "      <th></th>\n",
              "      <th>text</th>\n",
              "      <th>readability</th>\n",
              "    </tr>\n",
              "  </thead>\n",
              "  <tbody>\n",
              "    <tr>\n",
              "      <th>0</th>\n",
              "      <td>they sent me a salwar kameezpeacockblueand ano...</td>\n",
              "      <td>4</td>\n",
              "    </tr>\n",
              "    <tr>\n",
              "      <th>1</th>\n",
              "      <td>the chart shows each planet and its number of ...</td>\n",
              "      <td>0</td>\n",
              "    </tr>\n",
              "    <tr>\n",
              "      <th>2</th>\n",
              "      <td>this revision bite will help you understand wh...</td>\n",
              "      <td>4</td>\n",
              "    </tr>\n",
              "    <tr>\n",
              "      <th>3</th>\n",
              "      <td>what are powers and roots find out how they work</td>\n",
              "      <td>3</td>\n",
              "    </tr>\n",
              "    <tr>\n",
              "      <th>4</th>\n",
              "      <td>the wright brothers flew the first airplane ne...</td>\n",
              "      <td>0</td>\n",
              "    </tr>\n",
              "  </tbody>\n",
              "</table>\n",
              "</div>"
            ],
            "text/plain": [
              "                                                text  readability\n",
              "0  they sent me a salwar kameezpeacockblueand ano...            4\n",
              "1  the chart shows each planet and its number of ...            0\n",
              "2  this revision bite will help you understand wh...            4\n",
              "3   what are powers and roots find out how they work            3\n",
              "4  the wright brothers flew the first airplane ne...            0"
            ]
          },
          "metadata": {
            "tags": []
          },
          "execution_count": 7
        }
      ]
    },
    {
      "cell_type": "code",
      "metadata": {
        "execution": {
          "iopub.status.busy": "2021-06-17T13:05:24.027208Z",
          "iopub.execute_input": "2021-06-17T13:05:24.027531Z",
          "iopub.status.idle": "2021-06-17T13:05:24.047821Z",
          "shell.execute_reply.started": "2021-06-17T13:05:24.027495Z",
          "shell.execute_reply": "2021-06-17T13:05:24.047052Z"
        },
        "trusted": true,
        "id": "jPeUbL3eC0KG",
        "colab": {
          "base_uri": "https://localhost:8080/",
          "height": 204
        },
        "outputId": "bac33aac-937b-4070-d65b-ae68f266e18f"
      },
      "source": [
        "test_dataset = pd.read_csv('/content/drive/MyDrive/Readability_Research_Paper/test.csv')\n",
        "test_dataset['readability'] = test_dataset['readability'].apply(lambda x: x-2)\n",
        "test_dataset.head()"
      ],
      "execution_count": 8,
      "outputs": [
        {
          "output_type": "execute_result",
          "data": {
            "text/html": [
              "<div>\n",
              "<style scoped>\n",
              "    .dataframe tbody tr th:only-of-type {\n",
              "        vertical-align: middle;\n",
              "    }\n",
              "\n",
              "    .dataframe tbody tr th {\n",
              "        vertical-align: top;\n",
              "    }\n",
              "\n",
              "    .dataframe thead th {\n",
              "        text-align: right;\n",
              "    }\n",
              "</style>\n",
              "<table border=\"1\" class=\"dataframe\">\n",
              "  <thead>\n",
              "    <tr style=\"text-align: right;\">\n",
              "      <th></th>\n",
              "      <th>text</th>\n",
              "      <th>readability</th>\n",
              "    </tr>\n",
              "  </thead>\n",
              "  <tbody>\n",
              "    <tr>\n",
              "      <th>0</th>\n",
              "      <td>to understand a work of art or a beautiful obj...</td>\n",
              "      <td>4</td>\n",
              "    </tr>\n",
              "    <tr>\n",
              "      <th>1</th>\n",
              "      <td>perhaps the most important of these is the use...</td>\n",
              "      <td>4</td>\n",
              "    </tr>\n",
              "    <tr>\n",
              "      <th>2</th>\n",
              "      <td>q what is a tornados favorite game a twister</td>\n",
              "      <td>0</td>\n",
              "    </tr>\n",
              "    <tr>\n",
              "      <th>3</th>\n",
              "      <td>the final thing to remember is there are lots ...</td>\n",
              "      <td>4</td>\n",
              "    </tr>\n",
              "    <tr>\n",
              "      <th>4</th>\n",
              "      <td>3d shapes have 3dimensions length width and de...</td>\n",
              "      <td>3</td>\n",
              "    </tr>\n",
              "  </tbody>\n",
              "</table>\n",
              "</div>"
            ],
            "text/plain": [
              "                                                text  readability\n",
              "0  to understand a work of art or a beautiful obj...            4\n",
              "1  perhaps the most important of these is the use...            4\n",
              "2       q what is a tornados favorite game a twister            0\n",
              "3  the final thing to remember is there are lots ...            4\n",
              "4  3d shapes have 3dimensions length width and de...            3"
            ]
          },
          "metadata": {
            "tags": []
          },
          "execution_count": 8
        }
      ]
    },
    {
      "cell_type": "markdown",
      "metadata": {
        "id": "27-DvDgAC0KH"
      },
      "source": [
        "# Data pre-processing and DataLoaders"
      ]
    },
    {
      "cell_type": "code",
      "metadata": {
        "execution": {
          "iopub.status.busy": "2021-06-17T13:05:25.130689Z",
          "iopub.execute_input": "2021-06-17T13:05:25.131097Z",
          "iopub.status.idle": "2021-06-17T13:05:25.236336Z",
          "shell.execute_reply.started": "2021-06-17T13:05:25.131052Z",
          "shell.execute_reply": "2021-06-17T13:05:25.235398Z"
        },
        "trusted": true,
        "id": "_JAJiGSIC0KJ",
        "colab": {
          "base_uri": "https://localhost:8080/"
        },
        "outputId": "8364958a-e8d0-4252-b9bd-6d729d7f7538"
      },
      "source": [
        "def get_word_to_index(texts):\n",
        "    word_to_index = {\n",
        "        '<PAD>':0,\n",
        "        '<START>':1,\n",
        "        '<END>':2,\n",
        "    }\n",
        "    ind = 3\n",
        "    for text in texts:\n",
        "        words = word_tokenize(text)\n",
        "        for word in words:\n",
        "            if word not in word_to_index.keys():\n",
        "                word_to_index[word] = ind\n",
        "                ind += 1\n",
        "                \n",
        "    return word_to_index   \n",
        "\n",
        "word_to_index_dict = get_word_to_index(train_dataset['text'])\n",
        "VOCABULARY_SIZE = len(word_to_index_dict.keys())\n",
        "print(VOCABULARY_SIZE)"
      ],
      "execution_count": 9,
      "outputs": [
        {
          "output_type": "stream",
          "text": [
            "21072\n"
          ],
          "name": "stdout"
        }
      ]
    },
    {
      "cell_type": "code",
      "metadata": {
        "execution": {
          "iopub.status.busy": "2021-06-17T13:06:02.472213Z",
          "iopub.execute_input": "2021-06-17T13:06:02.472542Z",
          "iopub.status.idle": "2021-06-17T13:06:02.49165Z",
          "shell.execute_reply.started": "2021-06-17T13:06:02.472511Z",
          "shell.execute_reply": "2021-06-17T13:06:02.49062Z"
        },
        "trusted": true,
        "id": "33P8dmcMC0KJ"
      },
      "source": [
        "def get_tensor_from_text(text):\n",
        "    word_list = []\n",
        "    words = word_tokenize(text)\n",
        "    for word in words:\n",
        "        word_list.append(word_to_index_dict[word])\n",
        "    if len(word_list) > TEXT_LENGTH:\n",
        "        word_list = word_list[:TEXT_LENGTH]\n",
        "    else:\n",
        "        word_list.extend([0]*(TEXT_LENGTH-len(word_list)))\n",
        "    \n",
        "    tensor_list = torch.tensor(word_list, device=device, dtype=torch.long)\n",
        "    return tensor_list"
      ],
      "execution_count": 10,
      "outputs": []
    },
    {
      "cell_type": "code",
      "metadata": {
        "execution": {
          "iopub.status.busy": "2021-06-17T13:06:04.311629Z",
          "iopub.execute_input": "2021-06-17T13:06:04.311985Z",
          "iopub.status.idle": "2021-06-17T13:06:04.317795Z",
          "shell.execute_reply.started": "2021-06-17T13:06:04.311954Z",
          "shell.execute_reply": "2021-06-17T13:06:04.31686Z"
        },
        "trusted": true,
        "id": "kL2XMh6hC0KK"
      },
      "source": [
        "class WeebitDataset(torch.utils.data.Dataset):\n",
        "    def __init__(self,dataset):\n",
        "        self.dataset = dataset\n",
        "    \n",
        "    def __getitem__(self,index): \n",
        "        text = self.dataset['text'].iloc[index]\n",
        "        y = torch.tensor(self.dataset['readability'].iloc[index],dtype=torch.float,device=device)\n",
        "        x = get_tensor_from_text(text)\n",
        "        return x,y\n",
        "    \n",
        "    def __len__(self):\n",
        "        return len(self.dataset)"
      ],
      "execution_count": 11,
      "outputs": []
    },
    {
      "cell_type": "code",
      "metadata": {
        "id": "7M_DsPplMbRI"
      },
      "source": [
        "def create_embedding_matrix(embeddings,vocabulary_size):  \n",
        "    embedding_matrix = np.random.rand(vocabulary_size,EMBEDDING_SIZE)\n",
        "    for string,index in word_to_index_dict.items():\n",
        "        if not  all(x == 0 for x in embeddings[string].tolist()):\n",
        "            embedding_matrix[index] = embeddings[string] \n",
        "    return embedding_matrix"
      ],
      "execution_count": 12,
      "outputs": []
    },
    {
      "cell_type": "code",
      "metadata": {
        "id": "0Q25Fe9HYumo"
      },
      "source": [
        "embedding_matrix = create_embedding_matrix(embeddings,VOCABULARY_SIZE)"
      ],
      "execution_count": 13,
      "outputs": []
    },
    {
      "cell_type": "markdown",
      "metadata": {
        "id": "kcEGq9VHC0KL"
      },
      "source": [
        "# Model and Training "
      ]
    },
    {
      "cell_type": "code",
      "metadata": {
        "id": "ktrWzCQLHjjV"
      },
      "source": [
        "class ReadabilityModel_LSTM(torch.nn.Module):\n",
        "    def __init__(self, embedding_matrix, hidden_size, num_of_layers):\n",
        "        super().__init__()\n",
        "        self.dropout_probability = 0.2\n",
        "        self.embeddings_layer = torch.nn.Embedding(embedding_matrix.shape[0], embedding_matrix.shape[1],\n",
        "                                                   padding_idx=0)\n",
        "        self.embeddings_layer.weight = torch.nn.Parameter(torch.tensor(embedding_matrix, \n",
        "                                                                       dtype=torch.float32,\n",
        "                                                                       device=device))\n",
        "        self.embeddings_layer.weight.requires_grad = False\n",
        "        self.lstm_layer = torch.nn.LSTM(300, hidden_size,\n",
        "                                        num_layers=num_of_layers, dropout=self.dropout_probability,\n",
        "                                        batch_first=True, bidirectional=True)\n",
        "        self.linear_layer_1 = torch.nn.Linear(hidden_size,128)\n",
        "        self.dropout_layer = torch.nn.Dropout(p=self.dropout_probability)\n",
        "        self.leaky_relu = torch.nn.LeakyReLU()\n",
        "        self.linear_layer_2 = torch.nn.Linear(128,5)\n",
        "\n",
        "    def forward(self,x):\n",
        "        x = self.embeddings_layer(x) #shape of x is 16,200,300\n",
        "        lstm_output, (ht, ct) = self.lstm_layer(x)\n",
        "        #Shape of lstm_output_1 is 16,50,512 \n",
        "        #Shape of ht1 is 6,16,256 \n",
        "        #Shape of ct2 is 6,16,256\n",
        "        linear_output_1 = self.linear_layer_1(ht[-1])\n",
        "        linear_output_1 = self.leaky_relu(linear_output_1)\n",
        "        linear_output_1 = self.dropout_layer(linear_output_1)\n",
        "        linear_output_2 = self.linear_layer_2(linear_output_1)\n",
        "        output = linear_output_2\n",
        "        return output"
      ],
      "execution_count": 17,
      "outputs": []
    },
    {
      "cell_type": "markdown",
      "metadata": {
        "id": "6Ci_ao8XIVWM"
      },
      "source": [
        "#Train"
      ]
    },
    {
      "cell_type": "code",
      "metadata": {
        "execution": {
          "iopub.status.busy": "2021-06-17T13:07:07.025597Z",
          "iopub.execute_input": "2021-06-17T13:07:07.025948Z",
          "iopub.status.idle": "2021-06-17T17:01:04.936288Z",
          "shell.execute_reply.started": "2021-06-17T13:07:07.025916Z",
          "shell.execute_reply": "2021-06-17T17:01:04.935397Z"
        },
        "trusted": true,
        "id": "H6frPLDYC0KU"
      },
      "source": [
        "def train(train_dataset,valid_dataset,epochs,learning_rate,train_batch_size,valid_batch_size,embedding_matrix,hidden_size, num_of_layers):\n",
        "  loss_function = torch.nn.CrossEntropyLoss()\n",
        "\n",
        "  trainloader = torch.utils.data.DataLoader(train_dataset,batch_size=train_batch_size,\n",
        "                                            drop_last=True)\n",
        "  validloader = torch.utils.data.DataLoader(valid_dataset,batch_size=valid_batch_size,\n",
        "                                            drop_last=True)\n",
        "\n",
        "  model = ReadabilityModel_LSTM(embedding_matrix,\n",
        "                                              hidden_size, num_of_layers)\n",
        "  model = model.to(device)\n",
        "  train_loss_list,valid_loss_list = [],[]\n",
        "  train_accuracy_list,valid_accuracy_list = [],[]\n",
        "  for epoch in range(0, epochs):\n",
        "      epoch_loss = 0.0\n",
        "      model.train()\n",
        "      train_correct = 0\n",
        "      # learning_rate = 0.001/(epoch+1)\n",
        "      optimizer = torch.optim.Adam(model.parameters(), lr=learning_rate)\n",
        "      for i, data in enumerate(trainloader, 0):\n",
        "          inputs, targets = data\n",
        "          optimizer.zero_grad()\n",
        "          targets = torch.tensor(targets,dtype=torch.long,device=device)\n",
        "          outputs = model(inputs)\n",
        "          output_ids = torch.argmax(outputs, dim=1)\n",
        "\n",
        "          loss = loss_function(outputs, targets)\n",
        "          epoch_loss += loss.item()\n",
        "\n",
        "          loss.backward()\n",
        "          optimizer.step()\n",
        "          train_correct += (output_ids == targets).float().sum()\n",
        "\n",
        "      train_accuracy = 100 * train_correct / len(train_dataset)\n",
        "      epoch_loss /= len(trainloader) / train_batch_size \n",
        "      train_loss_list.append(epoch_loss)\n",
        "      train_accuracy_list.append(train_accuracy)\n",
        "\n",
        "      with torch.no_grad():\n",
        "        validation_loss = 0.0\n",
        "        valid_correct = 0\n",
        "        for i, data in enumerate(validloader, 0):\n",
        "            model.eval()\n",
        "            inputs, targets = data\n",
        "            targets = torch.tensor(targets,dtype=torch.long,device=device)\n",
        "            outputs = model(inputs)\n",
        "            output_ids = torch.argmax(outputs, dim=1)\n",
        "            # outputs = outputs.squeeze(1)\n",
        "            loss = loss_function(outputs, targets)\n",
        "            validation_loss += loss.item()\n",
        "            valid_correct += (output_ids == targets).float().sum()\n",
        "\n",
        "      valid_accuracy = 100 * valid_correct / len(valid_dataset)  \n",
        "      validation_loss /= len(validloader) / valid_batch_size \n",
        "      valid_loss_list.append(validation_loss)\n",
        "      valid_accuracy_list.append(valid_accuracy)\n",
        "      print(f'Epoch:{epoch}, Training Loss:{epoch_loss} Validation Loss: {validation_loss} \\n Training accuracy:{train_accuracy} Validation Accuracy: {valid_accuracy} ')\n",
        "\n",
        "      torch.save(model,'/content/drive/MyDrive/Readability_Research_Paper/models/lstm_{}.pkl'.format(epoch))    \n",
        "      print('--------------------------------')\n",
        "\n",
        "  return train_loss_list,valid_loss_list,train_accuracy_list,valid_accuracy_list,model"
      ],
      "execution_count": null,
      "outputs": []
    },
    {
      "cell_type": "code",
      "metadata": {
        "id": "xvueADn3iPQg"
      },
      "source": [
        "from sklearn.model_selection import train_test_split\n",
        "\n",
        "split_train_df, split_val_df = train_test_split(train_dataset,test_size=0.1,stratify=train_dataset['readability'])"
      ],
      "execution_count": null,
      "outputs": []
    },
    {
      "cell_type": "code",
      "metadata": {
        "id": "xFBKon58cgZn"
      },
      "source": [
        "train_dataset_torch = WeebitDataset(split_train_df)\n",
        "valid_dataset_torch = WeebitDataset(split_val_df)\n",
        "EMBEDDING_SIZE = 300 \n",
        "hidden_size = 256\n",
        "num_of_layers = 3\n",
        "train_batch_size = 16\n",
        "valid_batch_size = 1\n",
        "epochs = 100\n",
        "learning_rate = 0.00005"
      ],
      "execution_count": null,
      "outputs": []
    },
    {
      "cell_type": "code",
      "metadata": {
        "id": "d8b6YirPC0KV",
        "colab": {
          "base_uri": "https://localhost:8080/"
        },
        "outputId": "b975e259-b900-4133-faf5-8d0cc7dbbab4"
      },
      "source": [
        "train_loss_list,valid_loss_list,train_accuracy_list,valid_accuracy_list,model = train(train_dataset_torch,valid_dataset_torch,epochs,learning_rate,\n",
        "                                                                                      train_batch_size,valid_batch_size,\n",
        "                                                                                      embedding_matrix,hidden_size, num_of_layers)"
      ],
      "execution_count": null,
      "outputs": [
        {
          "output_type": "stream",
          "text": [
            "/usr/local/lib/python3.7/dist-packages/ipykernel_launcher.py:23: UserWarning: To copy construct from a tensor, it is recommended to use sourceTensor.clone().detach() or sourceTensor.clone().detach().requires_grad_(True), rather than torch.tensor(sourceTensor).\n",
            "/usr/local/lib/python3.7/dist-packages/ipykernel_launcher.py:45: UserWarning: To copy construct from a tensor, it is recommended to use sourceTensor.clone().detach() or sourceTensor.clone().detach().requires_grad_(True), rather than torch.tensor(sourceTensor).\n"
          ],
          "name": "stderr"
        },
        {
          "output_type": "stream",
          "text": [
            "Epoch:0, Training Loss:25.655448518480572 Validation Loss: 1.5561500034332276 \n",
            " Training accuracy:23.244443893432617 Validation Accuracy: 32.0 \n",
            "--------------------------------\n",
            "Epoch:1, Training Loss:21.6620885848999 Validation Loss: 1.2536495051383971 \n",
            " Training accuracy:36.266666412353516 Validation Accuracy: 39.60000228881836 \n",
            "--------------------------------\n",
            "Epoch:2, Training Loss:19.37240241595677 Validation Loss: 1.209604701280594 \n",
            " Training accuracy:36.22222137451172 Validation Accuracy: 44.80000305175781 \n",
            "--------------------------------\n",
            "Epoch:3, Training Loss:18.714037888390678 Validation Loss: 1.1595785026550294 \n",
            " Training accuracy:38.488887786865234 Validation Accuracy: 45.20000076293945 \n",
            "--------------------------------\n",
            "Epoch:4, Training Loss:17.62905853816441 Validation Loss: 1.1352643704414367 \n",
            " Training accuracy:42.71111297607422 Validation Accuracy: 45.20000076293945 \n",
            "--------------------------------\n",
            "Epoch:5, Training Loss:17.16478293963841 Validation Loss: 1.1878859128952026 \n",
            " Training accuracy:44.622222900390625 Validation Accuracy: 47.20000076293945 \n",
            "--------------------------------\n",
            "Epoch:6, Training Loss:16.629658024651665 Validation Loss: 1.0904371575713159 \n",
            " Training accuracy:47.20000076293945 Validation Accuracy: 47.60000228881836 \n",
            "--------------------------------\n",
            "Epoch:7, Training Loss:15.980220058986118 Validation Loss: 1.03979245531559 \n",
            " Training accuracy:51.64444351196289 Validation Accuracy: 48.400001525878906 \n",
            "--------------------------------\n",
            "Epoch:8, Training Loss:15.598699058805193 Validation Loss: 0.9792185135781765 \n",
            " Training accuracy:51.155555725097656 Validation Accuracy: 53.60000228881836 \n",
            "--------------------------------\n",
            "Epoch:9, Training Loss:14.845601851599557 Validation Loss: 0.9511967050433159 \n",
            " Training accuracy:53.11111068725586 Validation Accuracy: 56.80000305175781 \n",
            "--------------------------------\n",
            "Epoch:10, Training Loss:14.342679630007062 Validation Loss: 0.998886780589819 \n",
            " Training accuracy:55.24444580078125 Validation Accuracy: 52.000003814697266 \n",
            "--------------------------------\n",
            "Epoch:11, Training Loss:13.937386683055333 Validation Loss: 0.9330166348963976 \n",
            " Training accuracy:57.9555549621582 Validation Accuracy: 54.400001525878906 \n",
            "--------------------------------\n",
            "Epoch:12, Training Loss:13.556266692706517 Validation Loss: 0.8961471956074237 \n",
            " Training accuracy:60.13333511352539 Validation Accuracy: 59.60000228881836 \n",
            "--------------------------------\n",
            "Epoch:13, Training Loss:13.050600726263864 Validation Loss: 0.9399649391844869 \n",
            " Training accuracy:60.93333435058594 Validation Accuracy: 58.400001525878906 \n",
            "--------------------------------\n",
            "Epoch:14, Training Loss:12.815994722502571 Validation Loss: 0.89842330596596 \n",
            " Training accuracy:63.82222366333008 Validation Accuracy: 62.80000305175781 \n",
            "--------------------------------\n",
            "Epoch:15, Training Loss:12.384929891995021 Validation Loss: 0.8692146409153938 \n",
            " Training accuracy:63.511112213134766 Validation Accuracy: 61.60000228881836 \n",
            "--------------------------------\n",
            "Epoch:16, Training Loss:12.313601793561663 Validation Loss: 0.8397765102982521 \n",
            " Training accuracy:64.97777557373047 Validation Accuracy: 66.80000305175781 \n",
            "--------------------------------\n",
            "Epoch:17, Training Loss:12.117742715563093 Validation Loss: 0.8877833563089371 \n",
            " Training accuracy:65.64444732666016 Validation Accuracy: 63.20000457763672 \n",
            "--------------------------------\n",
            "Epoch:18, Training Loss:11.74640325478145 Validation Loss: 0.862421294234693 \n",
            " Training accuracy:66.71111297607422 Validation Accuracy: 66.80000305175781 \n",
            "--------------------------------\n",
            "Epoch:19, Training Loss:11.43492658138275 Validation Loss: 0.9026119190864265 \n",
            " Training accuracy:66.75555419921875 Validation Accuracy: 66.4000015258789 \n",
            "--------------------------------\n",
            "Epoch:20, Training Loss:11.022309124469757 Validation Loss: 0.9062953927516937 \n",
            " Training accuracy:69.24444580078125 Validation Accuracy: 65.20000457763672 \n",
            "--------------------------------\n",
            "Epoch:21, Training Loss:11.092566030366081 Validation Loss: 0.8937391765117645 \n",
            " Training accuracy:68.13333129882812 Validation Accuracy: 66.0 \n",
            "--------------------------------\n",
            "Epoch:22, Training Loss:10.681705846105302 Validation Loss: 0.926343181502074 \n",
            " Training accuracy:69.55555725097656 Validation Accuracy: 66.80000305175781 \n",
            "--------------------------------\n",
            "Epoch:23, Training Loss:10.4121830701828 Validation Loss: 0.9276391287632286 \n",
            " Training accuracy:70.71111297607422 Validation Accuracy: 64.4000015258789 \n",
            "--------------------------------\n",
            "Epoch:24, Training Loss:10.165493432113102 Validation Loss: 0.842373036839068 \n",
            " Training accuracy:71.28888702392578 Validation Accuracy: 70.0 \n",
            "--------------------------------\n",
            "Epoch:25, Training Loss:10.275625388962881 Validation Loss: 0.911063532596454 \n",
            " Training accuracy:71.82221984863281 Validation Accuracy: 67.60000610351562 \n",
            "--------------------------------\n",
            "Epoch:26, Training Loss:9.769564087050302 Validation Loss: 1.1259923153296112 \n",
            " Training accuracy:73.20000457763672 Validation Accuracy: 64.4000015258789 \n",
            "--------------------------------\n",
            "Epoch:27, Training Loss:9.63997368471963 Validation Loss: 0.9697916133627296 \n",
            " Training accuracy:73.24444580078125 Validation Accuracy: 66.0 \n",
            "--------------------------------\n",
            "Epoch:28, Training Loss:9.502656071526664 Validation Loss: 0.9583095789980143 \n",
            " Training accuracy:73.33333587646484 Validation Accuracy: 67.20000457763672 \n",
            "--------------------------------\n",
            "Epoch:29, Training Loss:9.35720454624721 Validation Loss: 0.9618400235362351 \n",
            " Training accuracy:74.35555267333984 Validation Accuracy: 66.80000305175781 \n",
            "--------------------------------\n",
            "Epoch:30, Training Loss:10.031327499662126 Validation Loss: 0.8475470297243446 \n",
            " Training accuracy:72.0888900756836 Validation Accuracy: 70.4000015258789 \n",
            "--------------------------------\n",
            "Epoch:31, Training Loss:8.893861418110983 Validation Loss: 1.1824358698856086 \n",
            " Training accuracy:75.68888854980469 Validation Accuracy: 60.400001525878906 \n",
            "--------------------------------\n",
            "Epoch:32, Training Loss:8.969674723488945 Validation Loss: 1.179168331841007 \n",
            " Training accuracy:75.95555877685547 Validation Accuracy: 64.80000305175781 \n",
            "--------------------------------\n",
            "Epoch:33, Training Loss:8.972630877154215 Validation Loss: 1.0431586544178426 \n",
            " Training accuracy:75.33333587646484 Validation Accuracy: 66.4000015258789 \n",
            "--------------------------------\n",
            "Epoch:34, Training Loss:8.802826390947615 Validation Loss: 1.1078690801132471 \n",
            " Training accuracy:76.04444885253906 Validation Accuracy: 62.400001525878906 \n",
            "--------------------------------\n",
            "Epoch:35, Training Loss:8.893952996390206 Validation Loss: 1.147599808074534 \n",
            " Training accuracy:76.0 Validation Accuracy: 60.000003814697266 \n",
            "--------------------------------\n",
            "Epoch:36, Training Loss:9.024181279114314 Validation Loss: 0.9072153766062111 \n",
            " Training accuracy:75.20000457763672 Validation Accuracy: 68.0 \n",
            "--------------------------------\n",
            "Epoch:37, Training Loss:8.273337326731001 Validation Loss: 1.1198954447424039 \n",
            " Training accuracy:77.86666870117188 Validation Accuracy: 66.80000305175781 \n",
            "--------------------------------\n",
            "Epoch:38, Training Loss:8.31001306091036 Validation Loss: 0.926911528011784 \n",
            " Training accuracy:78.35555267333984 Validation Accuracy: 67.20000457763672 \n",
            "--------------------------------\n",
            "Epoch:39, Training Loss:8.064847673688616 Validation Loss: 0.9978772221952676 \n",
            " Training accuracy:78.4888916015625 Validation Accuracy: 69.20000457763672 \n",
            "--------------------------------\n",
            "Epoch:40, Training Loss:8.263423485415322 Validation Loss: 0.8662447755029425 \n",
            " Training accuracy:77.86666870117188 Validation Accuracy: 71.60000610351562 \n",
            "--------------------------------\n",
            "Epoch:41, Training Loss:8.452943129198891 Validation Loss: 0.942409424642101 \n",
            " Training accuracy:78.4888916015625 Validation Accuracy: 70.80000305175781 \n",
            "--------------------------------\n",
            "Epoch:42, Training Loss:8.047958183288575 Validation Loss: 1.01630177961383 \n",
            " Training accuracy:78.53333282470703 Validation Accuracy: 69.20000457763672 \n",
            "--------------------------------\n",
            "Epoch:43, Training Loss:7.825444965703147 Validation Loss: 0.9969835602799431 \n",
            " Training accuracy:78.97777557373047 Validation Accuracy: 69.60000610351562 \n",
            "--------------------------------\n",
            "Epoch:44, Training Loss:7.862069549730846 Validation Loss: 0.9675496618710459 \n",
            " Training accuracy:78.53333282470703 Validation Accuracy: 68.4000015258789 \n",
            "--------------------------------\n",
            "Epoch:45, Training Loss:7.313212526696069 Validation Loss: 0.9393401020420715 \n",
            " Training accuracy:80.8888931274414 Validation Accuracy: 70.4000015258789 \n",
            "--------------------------------\n",
            "Epoch:46, Training Loss:7.630081912449428 Validation Loss: 0.9148945410689339 \n",
            " Training accuracy:79.37777709960938 Validation Accuracy: 69.60000610351562 \n",
            "--------------------------------\n",
            "Epoch:47, Training Loss:7.534995680195944 Validation Loss: 0.9218712985077873 \n",
            " Training accuracy:80.04444885253906 Validation Accuracy: 70.4000015258789 \n",
            "--------------------------------\n",
            "Epoch:48, Training Loss:7.582743802240917 Validation Loss: 0.9814839668236673 \n",
            " Training accuracy:81.11111450195312 Validation Accuracy: 66.80000305175781 \n",
            "--------------------------------\n",
            "Epoch:49, Training Loss:7.472806685311454 Validation Loss: 0.9697248946139589 \n",
            " Training accuracy:80.31111145019531 Validation Accuracy: 68.0 \n",
            "--------------------------------\n",
            "Epoch:50, Training Loss:7.294485772507532 Validation Loss: 1.1078865368636326 \n",
            " Training accuracy:81.77777862548828 Validation Accuracy: 66.80000305175781 \n",
            "--------------------------------\n",
            "Epoch:51, Training Loss:7.458671200275421 Validation Loss: 1.0019260642221197 \n",
            " Training accuracy:80.26667022705078 Validation Accuracy: 69.60000610351562 \n",
            "--------------------------------\n",
            "Epoch:52, Training Loss:6.941227775812149 Validation Loss: 1.054808893938549 \n",
            " Training accuracy:81.55555725097656 Validation Accuracy: 69.60000610351562 \n",
            "--------------------------------\n",
            "Epoch:53, Training Loss:6.788999907459531 Validation Loss: 1.1035097106285394 \n",
            " Training accuracy:82.84444427490234 Validation Accuracy: 67.60000610351562 \n",
            "--------------------------------\n",
            "Epoch:54, Training Loss:6.708926646198545 Validation Loss: 1.0866889286944643 \n",
            " Training accuracy:82.80000305175781 Validation Accuracy: 70.0 \n",
            "--------------------------------\n",
            "Epoch:55, Training Loss:6.4689797733511245 Validation Loss: 1.3562133856392466 \n",
            " Training accuracy:84.4888916015625 Validation Accuracy: 63.20000457763672 \n",
            "--------------------------------\n",
            "Epoch:56, Training Loss:7.050415456720761 Validation Loss: 0.9902624725857749 \n",
            " Training accuracy:81.9111099243164 Validation Accuracy: 68.4000015258789 \n",
            "--------------------------------\n",
            "Epoch:57, Training Loss:6.824581608601979 Validation Loss: 1.6033205387936904 \n",
            " Training accuracy:82.75555419921875 Validation Accuracy: 61.60000228881836 \n",
            "--------------------------------\n",
            "Epoch:58, Training Loss:6.5642393827438354 Validation Loss: 1.020612614586018 \n",
            " Training accuracy:83.82221984863281 Validation Accuracy: 68.4000015258789 \n",
            "--------------------------------\n",
            "Epoch:59, Training Loss:6.3544800307069504 Validation Loss: 1.110960450475104 \n",
            " Training accuracy:84.4000015258789 Validation Accuracy: 68.80000305175781 \n",
            "--------------------------------\n",
            "Epoch:60, Training Loss:6.363979094794819 Validation Loss: 1.066976380075328 \n",
            " Training accuracy:84.71111297607422 Validation Accuracy: 68.80000305175781 \n",
            "--------------------------------\n",
            "Epoch:61, Training Loss:6.152418480174882 Validation Loss: 1.1383599852388724 \n",
            " Training accuracy:85.28888702392578 Validation Accuracy: 67.20000457763672 \n",
            "--------------------------------\n",
            "Epoch:62, Training Loss:6.381643019829478 Validation Loss: 1.080528233374469 \n",
            " Training accuracy:85.15555572509766 Validation Accuracy: 65.20000457763672 \n",
            "--------------------------------\n",
            "Epoch:63, Training Loss:6.0704773102487835 Validation Loss: 1.1177352434820496 \n",
            " Training accuracy:84.8888931274414 Validation Accuracy: 67.60000610351562 \n",
            "--------------------------------\n",
            "Epoch:64, Training Loss:5.634717579398837 Validation Loss: 1.1323952783788553 \n",
            " Training accuracy:86.4888916015625 Validation Accuracy: 68.80000305175781 \n",
            "--------------------------------\n",
            "Epoch:65, Training Loss:6.994935061250414 Validation Loss: 1.0798337944392116 \n",
            " Training accuracy:83.86666870117188 Validation Accuracy: 68.0 \n",
            "--------------------------------\n",
            "Epoch:66, Training Loss:5.642570949452264 Validation Loss: 1.1850395783833227 \n",
            " Training accuracy:86.84444427490234 Validation Accuracy: 66.80000305175781 \n",
            "--------------------------------\n",
            "Epoch:67, Training Loss:6.004424153481211 Validation Loss: 1.1103587134964763 \n",
            " Training accuracy:85.20000457763672 Validation Accuracy: 70.80000305175781 \n",
            "--------------------------------\n",
            "Epoch:68, Training Loss:5.73599140388625 Validation Loss: 1.1669308458198793 \n",
            " Training accuracy:86.35556030273438 Validation Accuracy: 67.20000457763672 \n",
            "--------------------------------\n",
            "Epoch:69, Training Loss:5.516110170739037 Validation Loss: 1.1110076917086262 \n",
            " Training accuracy:86.93333435058594 Validation Accuracy: 68.80000305175781 \n",
            "--------------------------------\n",
            "Epoch:70, Training Loss:5.513050200257982 Validation Loss: 1.1576306607762816 \n",
            " Training accuracy:87.15555572509766 Validation Accuracy: 66.4000015258789 \n",
            "--------------------------------\n",
            "Epoch:71, Training Loss:5.071594549502645 Validation Loss: 1.1709914026029873 \n",
            " Training accuracy:88.04444885253906 Validation Accuracy: 68.80000305175781 \n",
            "--------------------------------\n",
            "Epoch:72, Training Loss:5.372803034526961 Validation Loss: 1.1391476880093105 \n",
            " Training accuracy:87.5111083984375 Validation Accuracy: 71.20000457763672 \n",
            "--------------------------------\n",
            "Epoch:73, Training Loss:4.886400752408164 Validation Loss: 1.2051584384492597 \n",
            " Training accuracy:88.8888931274414 Validation Accuracy: 68.0 \n",
            "--------------------------------\n",
            "Epoch:74, Training Loss:5.332277048911367 Validation Loss: 1.2310900544493926 \n",
            " Training accuracy:87.55555725097656 Validation Accuracy: 66.80000305175781 \n",
            "--------------------------------\n",
            "Epoch:75, Training Loss:4.8371587008237835 Validation Loss: 1.1292380216764286 \n",
            " Training accuracy:88.4888916015625 Validation Accuracy: 71.20000457763672 \n",
            "--------------------------------\n",
            "Epoch:76, Training Loss:4.552484958086695 Validation Loss: 1.1653852786035277 \n",
            " Training accuracy:89.5111083984375 Validation Accuracy: 71.20000457763672 \n",
            "--------------------------------\n",
            "Epoch:77, Training Loss:4.809667327361447 Validation Loss: 1.2739122171094641 \n",
            " Training accuracy:89.33333587646484 Validation Accuracy: 68.4000015258789 \n",
            "--------------------------------\n",
            "Epoch:78, Training Loss:4.381569804676942 Validation Loss: 1.1924185319337994 \n",
            " Training accuracy:90.4000015258789 Validation Accuracy: 72.0 \n",
            "--------------------------------\n",
            "Epoch:79, Training Loss:4.892253183892795 Validation Loss: 1.184123815055238 \n",
            " Training accuracy:88.97777557373047 Validation Accuracy: 69.60000610351562 \n",
            "--------------------------------\n",
            "Epoch:80, Training Loss:4.654753583031042 Validation Loss: 1.1935244169086219 \n",
            " Training accuracy:89.02222442626953 Validation Accuracy: 70.0 \n",
            "--------------------------------\n",
            "Epoch:81, Training Loss:4.173514793706792 Validation Loss: 1.2708975273272953 \n",
            " Training accuracy:90.66666412353516 Validation Accuracy: 68.80000305175781 \n",
            "--------------------------------\n",
            "Epoch:82, Training Loss:4.300122538421835 Validation Loss: 1.254164490387775 \n",
            " Training accuracy:90.4000015258789 Validation Accuracy: 68.4000015258789 \n",
            "--------------------------------\n",
            "Epoch:83, Training Loss:4.100117962488106 Validation Loss: 1.232089046720881 \n",
            " Training accuracy:90.80000305175781 Validation Accuracy: 70.4000015258789 \n",
            "--------------------------------\n",
            "Epoch:84, Training Loss:4.383124258049897 Validation Loss: 1.2273875968114007 \n",
            " Training accuracy:89.82221984863281 Validation Accuracy: 69.60000610351562 \n",
            "--------------------------------\n",
            "Epoch:85, Training Loss:4.906489911249706 Validation Loss: 1.2396382864536717 \n",
            " Training accuracy:88.66666412353516 Validation Accuracy: 68.80000305175781 \n",
            "--------------------------------\n",
            "Epoch:86, Training Loss:3.873247666656971 Validation Loss: 1.3418168185816612 \n",
            " Training accuracy:91.46666717529297 Validation Accuracy: 66.4000015258789 \n",
            "--------------------------------\n",
            "Epoch:87, Training Loss:4.283313177206686 Validation Loss: 1.426425952526275 \n",
            " Training accuracy:90.26667022705078 Validation Accuracy: 64.0 \n",
            "--------------------------------\n",
            "Epoch:88, Training Loss:4.071451453864574 Validation Loss: 1.3035925037390552 \n",
            " Training accuracy:90.44444274902344 Validation Accuracy: 70.4000015258789 \n",
            "--------------------------------\n",
            "Epoch:89, Training Loss:4.113993206513779 Validation Loss: 1.3379568202537484 \n",
            " Training accuracy:90.44444274902344 Validation Accuracy: 67.20000457763672 \n",
            "--------------------------------\n",
            "Epoch:90, Training Loss:4.218796842545271 Validation Loss: 1.3819203519951553 \n",
            " Training accuracy:89.55555725097656 Validation Accuracy: 68.4000015258789 \n",
            "--------------------------------\n",
            "Epoch:91, Training Loss:3.958616632436003 Validation Loss: 1.3661906663357513 \n",
            " Training accuracy:90.80000305175781 Validation Accuracy: 68.4000015258789 \n",
            "--------------------------------\n",
            "Epoch:92, Training Loss:4.099231764035565 Validation Loss: 1.3578045008257031 \n",
            " Training accuracy:90.8888931274414 Validation Accuracy: 66.0 \n",
            "--------------------------------\n",
            "Epoch:93, Training Loss:3.725915589077132 Validation Loss: 1.3986222374080681 \n",
            " Training accuracy:91.28888702392578 Validation Accuracy: 67.20000457763672 \n",
            "--------------------------------\n",
            "Epoch:94, Training Loss:3.3518446810543536 Validation Loss: 1.3337016961952322 \n",
            " Training accuracy:92.17778015136719 Validation Accuracy: 69.20000457763672 \n",
            "--------------------------------\n",
            "Epoch:95, Training Loss:3.4295104915542263 Validation Loss: 1.4396915353047661 \n",
            " Training accuracy:91.64444732666016 Validation Accuracy: 68.0 \n",
            "--------------------------------\n",
            "Epoch:96, Training Loss:3.1577105614755836 Validation Loss: 1.4608769862100017 \n",
            " Training accuracy:92.53333282470703 Validation Accuracy: 66.4000015258789 \n",
            "--------------------------------\n",
            "Epoch:97, Training Loss:4.155032711156777 Validation Loss: 1.374311833294225 \n",
            " Training accuracy:90.66666412353516 Validation Accuracy: 65.60000610351562 \n",
            "--------------------------------\n",
            "Epoch:98, Training Loss:3.075398324323552 Validation Loss: 1.588737515131943 \n",
            " Training accuracy:92.97777557373047 Validation Accuracy: 66.80000305175781 \n",
            "--------------------------------\n",
            "Epoch:99, Training Loss:2.5920049086213113 Validation Loss: 1.5837307872356614 \n",
            " Training accuracy:94.31111145019531 Validation Accuracy: 63.60000228881836 \n",
            "--------------------------------\n"
          ],
          "name": "stdout"
        }
      ]
    },
    {
      "cell_type": "code",
      "metadata": {
        "colab": {
          "base_uri": "https://localhost:8080/",
          "height": 265
        },
        "id": "JC_nrAEPd0aQ",
        "outputId": "e0770ee3-5436-403d-843f-0c592d5781b1"
      },
      "source": [
        "import matplotlib.pyplot as plt\n",
        "plt.plot(train_loss_list,'g',valid_loss_list , 'ro')\n",
        "plt.show()"
      ],
      "execution_count": null,
      "outputs": [
        {
          "output_type": "display_data",
          "data": {
            "image/png": "[encoded data removed]",
            "text/plain": [
              "<Figure size 432x288 with 1 Axes>"
            ]
          },
          "metadata": {
            "tags": [],
            "needs_background": "light"
          }
        }
      ]
    },
    {
      "cell_type": "code",
      "metadata": {
        "id": "KQcisxcEpaYB"
      },
      "source": [
        "def get_tensor_from_text_test(text,dataset):\n",
        "    word_list = []\n",
        "    train_word_to_index_dict = get_word_to_index(dataset['text'])\n",
        "    text = text.lower()\n",
        "    words = word_tokenize(text)\n",
        "    words = [word for word in words if word in train_word_to_index_dict.keys()]\n",
        "    for word in words:\n",
        "        word_list.append(train_word_to_index_dict[word])\n",
        "    if len(word_list) > TEXT_LENGTH:\n",
        "        word_list = word_list[:TEXT_LENGTH]\n",
        "    else:\n",
        "        word_list.extend([0]*(TEXT_LENGTH-len(word_list)))\n",
        "    \n",
        "    tensor_list = torch.tensor(word_list, device=device, dtype=torch.long)\n",
        "    return tensor_list\n",
        "\n",
        "class WeebitTestDataset(torch.utils.data.Dataset):\n",
        "    def __init__(self,test_dataset,train_dataset):\n",
        "        self.dataset = test_dataset\n",
        "        self.train_dataset = train_dataset \n",
        "    \n",
        "    def __getitem__(self,index): \n",
        "        text = self.dataset['text'].iloc[index]\n",
        "        x = get_tensor_from_text_test(text,self.train_dataset)\n",
        "        y = torch.tensor(self.dataset['readability'].iloc[index],dtype=torch.float,device=device)\n",
        "        return x,y\n",
        "    \n",
        "    def __len__(self):\n",
        "        return len(self.dataset)\n",
        "\n",
        "\n",
        "def test(dataset):\n",
        "  testloader = torch.utils.data.DataLoader(\n",
        "                      dataset,\n",
        "                      batch_size=1)\n",
        "  with torch.no_grad():   \n",
        "    model = torch.load('/content/drive/MyDrive/Readability_Research_Paper/models/lstm_88.pkl')\n",
        "    model.eval()\n",
        "    test_correct = 0\n",
        "    target_list = []\n",
        "    output_list = []\n",
        "    for i, data in enumerate(testloader, 0):\n",
        "      inputs, targets = data\n",
        "      # print(targets.item())\n",
        "      target_list.append(targets.item())\n",
        "      targets = torch.tensor(targets,dtype=torch.long,device=device)\n",
        "      outputs = model(inputs)\n",
        "      output_ids = torch.argmax(outputs, dim=1)\n",
        "      output_list.append(output_ids.item())\n",
        "      # outputs = outputs.squeeze(1)\n",
        "      test_correct += (output_ids == targets).float().sum()\n",
        "\n",
        "    test_accuracy = 100 * test_correct / len(dataset)\n",
        "    confusion_matrix_calc = confusion_matrix(target_list,output_list)\n",
        "    return test_accuracy, confusion_matrix_calc"
      ],
      "execution_count": 31,
      "outputs": []
    },
    {
      "cell_type": "code",
      "metadata": {
        "id": "JXngB7mm9G9H",
        "colab": {
          "base_uri": "https://localhost:8080/"
        },
        "outputId": "c31a905b-854b-4bd0-cf8c-90dd92809ecf"
      },
      "source": [
        "weebit_test_dataset = WeebitTestDataset(test_dataset, train_dataset)\n",
        "accuracy, confusion_matrix_calc = test(weebit_test_dataset)"
      ],
      "execution_count": 32,
      "outputs": [
        {
          "output_type": "stream",
          "text": [
            "/usr/local/lib/python3.7/dist-packages/ipykernel_launcher.py:46: UserWarning: To copy construct from a tensor, it is recommended to use sourceTensor.clone().detach() or sourceTensor.clone().detach().requires_grad_(True), rather than torch.tensor(sourceTensor).\n"
          ],
          "name": "stderr"
        }
      ]
    },
    {
      "cell_type": "code",
      "metadata": {
        "id": "OIP5MhfG9XjO",
        "colab": {
          "base_uri": "https://localhost:8080/"
        },
        "outputId": "aa70f908-c41a-47ba-aae7-a2a1a463174c"
      },
      "source": [
        "print(accuracy)\n",
        "print(confusion_matrix_calc)"
      ],
      "execution_count": 35,
      "outputs": [
        {
          "output_type": "stream",
          "text": [
            "tensor(67.2000, device='cuda:0')\n",
            "[[77 15  4  3  1]\n",
            " [27 37 34  2  0]\n",
            " [19 25 54  2  0]\n",
            " [ 2  0  2 90  6]\n",
            " [ 0  0  1 21 78]]\n"
          ],
          "name": "stdout"
        }
      ]
    },
    {
      "cell_type": "code",
      "metadata": {
        "id": "WFn-rhiMpwI9"
      },
      "source": [
        ""
      ],
      "execution_count": null,
      "outputs": []
    }
  ]
}